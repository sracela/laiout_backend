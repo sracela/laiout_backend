{
 "cells": [
  {
   "cell_type": "code",
   "execution_count": 1,
   "metadata": {},
   "outputs": [],
   "source": [
    "import sys\n",
    "\n",
    "from os.path import basename\n",
    "from classes.Utils import *\n",
    "from classes.Compiler import *"
   ]
  },
  {
   "cell_type": "code",
   "execution_count": 2,
   "metadata": {},
   "outputs": [],
   "source": [
    "output_path = '../datasets/android/eval_set'\n",
    "file_name = 'TEST'"
   ]
  },
  {
   "cell_type": "code",
   "execution_count": 3,
   "metadata": {},
   "outputs": [],
   "source": [
    "# output_path = '../datasets/android/training_features'\n",
    "# file_name = '72F3A88C-03C1-4321-A749-DC8CED488D4C'"
   ]
  },
  {
   "cell_type": "code",
   "execution_count": 4,
   "metadata": {},
   "outputs": [],
   "source": [
    "TEXT_PLACE_HOLDER = \"[TEXT]\"\n",
    "ID_PLACE_HOLDER = \"[ID]\"\n",
    "\n",
    "dsl_path = \"assets/android-dsl-mapping.json\"\n",
    "compiler = Compiler(dsl_path)"
   ]
  },
  {
   "cell_type": "code",
   "execution_count": 5,
   "metadata": {},
   "outputs": [],
   "source": [
    "def render_content_with_text(key, value):\n",
    "    value = value.replace(TEXT_PLACE_HOLDER, Utils.get_random_text(length_text=5, space_number=0))\n",
    "    while value.find(ID_PLACE_HOLDER) != -1:\n",
    "        value = value.replace(ID_PLACE_HOLDER, Utils.get_android_id(), 1)\n",
    "    return value"
   ]
  },
  {
   "cell_type": "code",
   "execution_count": 6,
   "metadata": {},
   "outputs": [],
   "source": [
    "input_file= output_path + '/' + file_name + '.gui'\n",
    "file_uid = basename(input_file)[:basename(input_file).find(\".\")]\n",
    "path = input_file[:input_file.find(file_uid)]"
   ]
  },
  {
   "cell_type": "code",
   "execution_count": 7,
   "metadata": {},
   "outputs": [],
   "source": [
    "input_file_path = \"{}{}.gui\".format(path, file_uid)\n",
    "output_file_path = \"{}{}.xml\".format(path, file_uid)"
   ]
  },
  {
   "cell_type": "code",
   "execution_count": 8,
   "metadata": {},
   "outputs": [
    {
     "name": "stdout",
     "output_type": "stream",
     "text": [
      "stack{\n",
      "row{\n",
      "label,btn\n",
      "}\n",
      "row{\n",
      "label,slider,label\n",
      "}\n",
      "}\n",
      "footer{\n",
      "btn-notifications,btn-notifications\n",
      "}\n"
     ]
    }
   ],
   "source": [
    "dsl_file = open(input_file_path)\n",
    "for token in dsl_file:\n",
    "    token = token.replace(\" \", \"\").replace(\"\\n\", \"\")\n",
    "    print(token)"
   ]
  },
  {
   "cell_type": "code",
   "execution_count": 9,
   "metadata": {},
   "outputs": [
    {
     "name": "stdout",
     "output_type": "stream",
     "text": [
      "label\n",
      "btn\n",
      "row\n",
      "label\n",
      "slider\n",
      "label\n",
      "row\n",
      "stack\n",
      "btn-notifications\n",
      "btn-notifications\n",
      "footer\n",
      "body\n"
     ]
    }
   ],
   "source": [
    "compiler.compile(input_file_path, output_file_path, rendering_function=render_content_with_text)"
   ]
  },
  {
   "cell_type": "code",
   "execution_count": null,
   "metadata": {},
   "outputs": [],
   "source": []
  }
 ],
 "metadata": {
  "kernelspec": {
   "display_name": "Python 3",
   "language": "python",
   "name": "python3"
  },
  "language_info": {
   "codemirror_mode": {
    "name": "ipython",
    "version": 3
   },
   "file_extension": ".py",
   "mimetype": "text/x-python",
   "name": "python",
   "nbconvert_exporter": "python",
   "pygments_lexer": "ipython3",
   "version": "3.6.10"
  }
 },
 "nbformat": 4,
 "nbformat_minor": 4
}
